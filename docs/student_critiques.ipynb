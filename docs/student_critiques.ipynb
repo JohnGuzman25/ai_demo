{
 "cells": [
  {
   "cell_type": "markdown",
   "id": "82282ac0",
   "metadata": {},
   "source": [
    "# Course Critique Notebook\n",
    "_Perspective: 2nd-year CS student_\n",
    "Date: 2025-10-10"
   ]
  },
  {
   "cell_type": "markdown",
   "id": "b157f010",
   "metadata": {},
   "source": [
    "## README.md Review\n",
    "- **What works:** The visual badges and three-entry table quickly convey course vibe; architecture overview maps code to learning goals which helps me see the scope.\n",
    "- **Confusing:** Quick start references a `.env.example` file that is not in the repo listing; the README also assumes I know which Python version to use.\n",
    "- **Potential defects:** Grading section promises 69 tests at 100% coverage, so any future mismatch could break credibility; Quick Start should probably warn about needing an OpenAI API key with paid access.\n",
    "- **Improvement ideas:** Add a prerequisite callout (Python version, CLI familiarity). Maybe embed a small flowchart linking README sections so I can plan the 2-week journey.\n",
    "- **Questions raised:** Are we supposed to use Claude or GPT tools? README references Claude but repo branding says \n",
    " which feels mixed."
   ]
  }
 ],
 "metadata": {
  "language_info": {
   "name": "python"
  }
 },
 "nbformat": 4,
 "nbformat_minor": 5
}
